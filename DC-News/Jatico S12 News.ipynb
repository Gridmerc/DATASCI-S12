{
 "cells": [
  {
   "cell_type": "markdown",
   "metadata": {},
   "source": [
    "# Getting data from an API"
   ]
  },
  {
   "cell_type": "markdown",
   "metadata": {},
   "source": [
    "### Install the Package"
   ]
  },
  {
   "cell_type": "code",
   "execution_count": 1,
   "metadata": {},
   "outputs": [
    {
     "name": "stdout",
     "output_type": "stream",
     "text": [
      "Requirement already satisfied: newsapi-python in d:\\programs\\anaconda3\\lib\\site-packages (0.2.6)\n",
      "Requirement already satisfied: requests<3.0.0 in d:\\programs\\anaconda3\\lib\\site-packages (from newsapi-python) (2.24.0)\n",
      "Requirement already satisfied: urllib3!=1.25.0,!=1.25.1,<1.26,>=1.21.1 in d:\\programs\\anaconda3\\lib\\site-packages (from requests<3.0.0->newsapi-python) (1.25.11)\n",
      "Requirement already satisfied: certifi>=2017.4.17 in d:\\programs\\anaconda3\\lib\\site-packages (from requests<3.0.0->newsapi-python) (2020.6.20)\n",
      "Requirement already satisfied: idna<3,>=2.5 in d:\\programs\\anaconda3\\lib\\site-packages (from requests<3.0.0->newsapi-python) (2.10)\n",
      "Requirement already satisfied: chardet<4,>=3.0.2 in d:\\programs\\anaconda3\\lib\\site-packages (from requests<3.0.0->newsapi-python) (3.0.4)\n",
      "Note: you may need to restart the kernel to use updated packages.\n"
     ]
    }
   ],
   "source": [
    "pip install newsapi-python"
   ]
  },
  {
   "cell_type": "markdown",
   "metadata": {},
   "source": [
    "### Import the packages"
   ]
  },
  {
   "cell_type": "code",
   "execution_count": 2,
   "metadata": {},
   "outputs": [],
   "source": [
    "from newsapi import NewsApiClient\n",
    "import pandas as pd\n",
    "import json"
   ]
  },
  {
   "cell_type": "code",
   "execution_count": 3,
   "metadata": {},
   "outputs": [],
   "source": [
    "NewsAPI = NewsApiClient(api_key = 'cc4e066f9da64e1b90b720fe6622c684')"
   ]
  },
  {
   "cell_type": "code",
   "execution_count": 4,
   "metadata": {},
   "outputs": [],
   "source": [
    "news_articles = NewsAPI.get_everything(q = 'news',\n",
    "                                       domains = 'inquirer.net',\n",
    "                                       from_param = '2021-03-11',\n",
    "                                       to = '2021-03-12',\n",
    "                                       language = 'en',\n",
    "                                       sort_by = 'relevancy')"
   ]
  },
  {
   "cell_type": "code",
   "execution_count": 5,
   "metadata": {},
   "outputs": [
    {
     "data": {
      "text/plain": [
       "{'status': 'ok',\n",
       " 'totalResults': 28,\n",
       " 'articles': [{'source': {'id': None, 'name': 'Inquirer.net'},\n",
       "   'author': 'Madonna Virola',\n",
       "   'title': 'DTI office in Oriental Mindoro on temporary lockdown',\n",
       "   'description': 'CITY OF CALAPAN ---- The Department of Trade and Industry (DTI) provincial office in Oriental Mindoro based in this city has been placed on temporary lockdown starting on Wednesday, March 10, until March 20 for contact tracing and disinfection.\\n\\nThe lockdown …',\n",
       "   'url': 'https://newsinfo.inquirer.net/1405620/dti-office-in-oriental-mindoro-on-temporary-lockdown',\n",
       "   'urlToImage': 'https://newsinfo.inquirer.net/files/2017/03/oriental-mindoro-map.jpg',\n",
       "   'publishedAt': '2021-03-11T04:12:14Z',\n",
       "   'content': 'CITY OF CALAPAN The Department of Trade and Industry (DTI) provincial office in Oriental Mindoro based in this city has been placed on temporary lockdown starting on Wednesday, March 10, until March … [+1717 chars]'},\n",
       "  {'source': {'id': None, 'name': 'Inquirer.net'},\n",
       "   'author': 'Delfin T. Mallari Jr.',\n",
       "   'title': 'Quezon taps peoples’ groups in COVID-19 vaccination drive',\n",
       "   'description': \"LUCENA CITY ---- The provincial government of Quezon has tapped the help of people's organizations to address the widespread public skepticism on the coronavirus disease (COVID-19) vaccination program.\\n\\nJanet Geneblazo, Quezon public information officer, said…\",\n",
       "   'url': 'https://newsinfo.inquirer.net/1405681/quezon-taps-peoples-groups-in-covid-19-vaccination-drive',\n",
       "   'urlToImage': 'https://newsinfo.inquirer.net/files/2018/12/quezon-province-map-620x322.png',\n",
       "   'publishedAt': '2021-03-11T06:13:42Z',\n",
       "   'content': 'LUCENA CITY The provincial government of Quezon has tapped the help of peoples organizations to address the widespread public skepticism on the coronavirus disease (COVID-19) vaccination program.\\r\\nJa… [+3252 chars]'},\n",
       "  {'source': {'id': None, 'name': 'Inquirer.net'},\n",
       "   'author': 'Agence France-Presse',\n",
       "   'title': 'WHO says no reason to stop using AstraZeneca jab',\n",
       "   'description': \"GENEVA --- The World Health Organization (WHO) said Friday there was no reason to stop using AstraZeneca's COVID-19 vaccine after several countries suspended the rollout over blood clot fears.\\n\\nThe WHO, which said its vaccines advisory committee was examining…\",\n",
       "   'url': 'https://newsinfo.inquirer.net/1406326/who-says-no-reason-to-stop-using-astrazeneca-jab',\n",
       "   'urlToImage': 'https://newsinfo.inquirer.net/files/2021/02/2021-02-10-WHO-building-in-Switzerland.jpg',\n",
       "   'publishedAt': '2021-03-12T13:42:01Z',\n",
       "   'content': 'GENEVA The World Health Organization (WHO) said Friday there was no reason to stop using AstraZeneca’s COVID-19 vaccine after several countries suspended the rollout over blood clot fears.\\r\\nThe WHO, … [+4040 chars]'},\n",
       "  {'source': {'id': None, 'name': 'Inquirer.net'},\n",
       "   'author': 'clopez',\n",
       "   'title': 'Irked Thai PM ‘sanitizes’ journalists',\n",
       "   'description': 'BANGKOK—Thai Prime Minister Prayuth Chan-ocha left reporters stunned and amused on Tuesday when he interrupted his own news conference to spray them with hand sanitizer in a bid to dodge tough questions. Prayuth became frustrated when asked about a list of po…',\n",
       "   'url': 'https://newsinfo.inquirer.net/1406027/irked-thai-pm-sanitizes-journalists',\n",
       "   'urlToImage': 'https://newsinfo.inquirer.net/files/2021/03/News131138-620x413.jpg',\n",
       "   'publishedAt': '2021-03-11T21:50:03Z',\n",
       "   'content': 'VEXED Thai Prime Minister Prayuth Chan-ocha sprays hand sanitizer at front row journalists to avert answering questions on the latest Cabinet reshuffle in Bangkok, Thailand, on Tuesday. REUTERS\\r\\nBANG… [+1702 chars]'},\n",
       "  {'source': {'id': None, 'name': 'Inquirer.net'},\n",
       "   'author': 'Cristina Eloisa Baclig',\n",
       "   'title': 'DATA: A year of COVID-19 quarantine in PH',\n",
       "   'description': \"MANILA, Philippines --- Today, March 12, 2021, marks the first anniversary since the Philippines imposed a community quarantine in hopes of controlling the country's COVID-19 cases.\\n\\nIt has also been months since President Rodrigo Duterte first vowed that lif…\",\n",
       "   'url': 'https://newsinfo.inquirer.net/1406213/fwd-data-a-year-of-covid-19-quarantine-in-ph',\n",
       "   'urlToImage': 'https://newsinfo.inquirer.net/files/2021/03/checkpoint.jpg',\n",
       "   'publishedAt': '2021-03-12T08:29:30Z',\n",
       "   'content': 'Checkpoint signage is seen as a soldier (R) checks the temperature of a motorist before entering Manila on March 16, 2020, as part of measures to reduce the spread of the COVID-19 pandemic. – The vir… [+12346 chars]'},\n",
       "  {'source': {'id': None, 'name': 'Inquirer.net'},\n",
       "   'author': 'kadraneda',\n",
       "   'title': 'What you need to know about the Johnson & Johnson vaccine',\n",
       "   'description': 'Washington, United States — Johnson & Johnson’s (J&J) single-dose COVID-19 shot is expected to be authorized by the European Union on Thursday, the bloc’s fourth vaccine in the fight to end its chapter of the pandemic. Here’s what you need to know. How safe a…',\n",
       "   'url': 'https://newsinfo.inquirer.net/1405837/what-you-need-to-know-about-the-johnson-johnson-vaccine',\n",
       "   'urlToImage': 'https://newsinfo.inquirer.net/files/2021/03/JJ-covid-vaccine.jpg',\n",
       "   'publishedAt': '2021-03-11T10:48:19Z',\n",
       "   'content': '(FILES) In this file photo taken on March 5, 2021, registered nurse Florisa N. Lingad holds a Johnson &amp; Johnson Covid-19 vaccine at a vaccination center established at the Hilton Chicago O’Hare A… [+5244 chars]'},\n",
       "  {'source': {'id': None, 'name': 'Inquirer.net'},\n",
       "   'author': 'dmorcoso',\n",
       "   'title': 'Myanmar junta accuses Suu Kyi of taking bribes as eight killed in anti-coup protests',\n",
       "   'description': 'Myanmar’s military government accused deposed leader Aung San Suu Kyi of accepting illegal payments as eight people were killed on Thursday when security forces opened fire on protests against the coup, witnesses and local media said. Rights group Amnesty Int…',\n",
       "   'url': 'https://newsinfo.inquirer.net/1405860/myanmar-junta-accuses-suu-kyi-of-taking-bribes-as-eight-killed-in-anti-coup-protests',\n",
       "   'urlToImage': None,\n",
       "   'publishedAt': '2021-03-11T10:12:37Z',\n",
       "   'content': None},\n",
       "  {'source': {'id': None, 'name': 'Inquirer.net'},\n",
       "   'author': 'lboniol',\n",
       "   'title': 'Boy, prisoner, 2 elderlies contract COVID-19 in San Pablo City',\n",
       "   'description': 'LUCENA CITY –- A year-old boy, a jail inmate, and two elderlies were among the 12 new coronavirus disease (COVID-19) patients recorded in San Pablo City in Laguna province on Wednesday, local authorities said. The San Pablo City Anti-COVID-19 Task Force, in a…',\n",
       "   'url': 'https://newsinfo.inquirer.net/1405642/boy-prisoner-2-elderlies-contract-covid-19-in-san-pablo-city',\n",
       "   'urlToImage': 'https://newsinfo.inquirer.net/files/2021/01/Untitled-design-620x413.png',\n",
       "   'publishedAt': '2021-03-11T04:56:38Z',\n",
       "   'content': 'LUCENA CITY - A year-old boy, a jail inmate, and two elderlies were among the 12 new coronavirus disease (COVID-19) patients recorded in San Pablo City in Laguna province on Wednesday, local authorit… [+1505 chars]'},\n",
       "  {'source': {'id': None, 'name': 'Inquirer.net'},\n",
       "   'author': 'dmorcoso',\n",
       "   'title': 'Olongapo logs 6 new COVID-19 cases',\n",
       "   'description': 'OLONGAPO CITY –– Six new cases of the coronavirus disease (COVID-19) were recorded in this city on Wednesday, raising its total number of patients to 1,076 since last year. In a statement, Mayor Rolen Paulino Jr. said some of the new infections were traced to…',\n",
       "   'url': 'https://newsinfo.inquirer.net/?p=1405702',\n",
       "   'urlToImage': 'https://newsinfo.inquirer.net/files/2020/09/28olongapo-620x319.jpg',\n",
       "   'publishedAt': '2021-03-11T06:32:46Z',\n",
       "   'content': 'OLONGAPO CITY Six new cases of the coronavirus disease (COVID-19) were recorded in this city on Wednesday, raising its total number of patients to 1,076 since last year.\\r\\nIn a statement, Mayor Rolen … [+1100 chars]'},\n",
       "  {'source': {'id': None, 'name': 'Inquirer.net'},\n",
       "   'author': 'kadraneda',\n",
       "   'title': 'Pandemic crippling nature conservation efforts',\n",
       "   'description': 'Geneva, Switzerland — The COVID-19 pandemic has not only had devastating effects on humans, it has also heavily impacted efforts to safeguard natural ecosystems and habitats around the globe, conservationists warned Thursday. The pandemic and its economic fal…',\n",
       "   'url': 'https://newsinfo.inquirer.net/1405762/pandemic-crippling-nature-conservation-efforts',\n",
       "   'urlToImage': 'https://newsinfo.inquirer.net/files/2020/04/000_Hkg10124608-620x397.jpg',\n",
       "   'publishedAt': '2021-03-11T08:12:41Z',\n",
       "   'content': 'This photo taken on November 20, 2014, shows an aerial view of the Great Barrier Reef off the coast of the Whitsunday Islands, along the central coast of Queensland. The Great Barrier Reef Marine Par… [+5405 chars]'},\n",
       "  {'source': {'id': None, 'name': 'Inquirer.net'},\n",
       "   'author': 'postie',\n",
       "   'title': 'Duterte bent on reopening economy soon even as COVID-19 cases in PH continue to rise',\n",
       "   'description': 'MANILA, Philippines — Despite the persistently increasing numbers of COVID-19 infections in the country, President Rodrigo Duterte on Thursday said that he has to reopen the economy in “a timetable of just weeks” because “we cannot forever be in the strict pr…',\n",
       "   'url': 'https://newsinfo.inquirer.net/1405901/duterte-bent-on-reopening-economy-soon-even-as-covid-19-cases-in-ph-continue-to-rise',\n",
       "   'urlToImage': 'https://newsinfo.inquirer.net/files/2021/03/duterte-dumaguete2-620x345.png',\n",
       "   'publishedAt': '2021-03-11T12:23:44Z',\n",
       "   'content': 'MANILA, Philippines Despite the persistently increasing number of COVID-19 infections in the country, President Rodrigo Duterte on Thursday said that he has to reopen the economy in “a timetable of j… [+3349 chars]'},\n",
       "  {'source': {'id': None, 'name': 'Inquirer.net'},\n",
       "   'author': 'dmorcoso',\n",
       "   'title': 'Tagaytay has 35 new COVID-19 cases; 25 contract virus in wake',\n",
       "   'description': 'LUCENA CITY –– Thirty-five new coronavirus disease (COVID-19) cases were recorded in Tagaytay City in Cavite province, 25 of whom contracted the virus in a wake for the dead, local authorities reported Friday, March 12. The local government said in a post on …',\n",
       "   'url': 'https://newsinfo.inquirer.net/?p=1406133',\n",
       "   'urlToImage': 'https://newsinfo.inquirer.net/files/2020/05/Regions42512-620x416.jpg',\n",
       "   'publishedAt': '2021-03-12T05:07:16Z',\n",
       "   'content': 'LUCENA CITY Thirty-five new coronavirus disease (COVID-19) cases were recorded in Tagaytay City in Cavite province, 25 of whom contracted the virus in a wake for the dead, local authorities reported … [+1684 chars]'},\n",
       "  {'source': {'id': None, 'name': 'Inquirer.net'},\n",
       "   'author': 'clopez',\n",
       "   'title': 'Sinas tests positive for coronavirus',\n",
       "   'description': 'Gen. Debold Sinas, the chief of the Philippine National Police, has tested positive for the coronavirus. But Brig. Gen. Ildebrandi Usana, speaking for the PNP on Thursday, said there was nothing to worry about Sinas’ condition.“Just send prayers for the chief…',\n",
       "   'url': 'https://newsinfo.inquirer.net/1406008/sinas-tests-positive-for-coronavirus',\n",
       "   'urlToImage': 'https://newsinfo.inquirer.net/files/2020/11/sinas-23nov2020-1-e1606125405361-620x465.jpg',\n",
       "   'publishedAt': '2021-03-11T21:38:17Z',\n",
       "   'content': 'Gen. Debold Sinas, the chief of the Philippine National Police, has tested positive for the coronavirus.\\r\\nBut Brig. Gen. Ildebrandi Usana, speaking for the PNP on Thursday, said there was nothing to … [+1412 chars]'},\n",
       "  {'source': {'id': None, 'name': 'Inquirer.net'},\n",
       "   'author': 'kadraneda',\n",
       "   'title': 'Texas Attorney General sues Austin officials over not lifting mask mandate',\n",
       "   'description': 'The Attorney General for Texas is suing officials in Austin after they refused to enforce an order that ended a statewide mask mandate. Texas announced the lifting of that restriction – which had made mask-wearing compulsory in public buildings and many outdo…',\n",
       "   'url': 'https://newsinfo.inquirer.net/1406301/texas-attorney-general-sues-austin-officials-over-not-lifting-mask-mandate',\n",
       "   'urlToImage': 'https://newsinfo.inquirer.net/files/2021/03/2021-03-12T111846Z_3_LYNXMPEH2B0O6_RTROPTP_4_HEALTH-CORONAVIRUS-USA-TEXAS-620x414.jpg',\n",
       "   'publishedAt': '2021-03-12T12:35:58Z',\n",
       "   'content': 'FILE PHOTO: A sign promotes mask-wearing at a bar as the state of Texas prepares to lift its mask mandate and reopen businesses to full capacity during the coronavirus disease (COVID-19) pandemic in … [+2215 chars]'},\n",
       "  {'source': {'id': None, 'name': 'Inquirer.net'},\n",
       "   'author': 'postie',\n",
       "   'title': 'San Juan logs 133 new active COVID-19 cases in 10 days',\n",
       "   'description': 'MANILA, Philippines — The number of active COVID-19 cases in San Juan City has rose by 133 in a span of just 10 days, its mayor said Thursday. San Juan Mayor Francis Zamora said the city has 196 active cases as of Wednesday, March 10. “Last Feb.. 17, we were …',\n",
       "   'url': 'https://newsinfo.inquirer.net/1405582/san-juan-logs-133-new-active-covid-19-cases-in-10-days',\n",
       "   'urlToImage': 'https://newsinfo.inquirer.net/files/2019/03/20190326-San-Juan-City-Hall-620x361.jpg',\n",
       "   'publishedAt': '2021-03-11T01:59:46Z',\n",
       "   'content': 'The implementation of the curfew is basically a psychological\\xa0 reminder to people that Hey, guys, were experiencing a spike, please change your mindset, do not relax, do not be confident just because… [+769 chars]'},\n",
       "  {'source': {'id': None, 'name': 'Inquirer.net'},\n",
       "   'author': 'dmorcoso',\n",
       "   'title': 'Passengers\\xa0 bound for Iloilo City need to submit negative swab test result',\n",
       "   'description': 'BACOLOD CITY –– All passengers arriving in Iloilo City, except those from neighboring Western Visayas areas, will be required to submit a negative swab test result issued not more than 72 hours before the date of travel to the city. Mayor Jerry Treñas issued …',\n",
       "   'url': 'https://newsinfo.inquirer.net/1405857/passengers-bound-for-iloilo-city-need-to-submit-negative-swab-test-result',\n",
       "   'urlToImage': 'https://newsinfo.inquirer.net/files/2021/02/cebu-swab-22feb2021-e1613989007890-620x464.jpg',\n",
       "   'publishedAt': '2021-03-11T10:08:19Z',\n",
       "   'content': 'BACOLOD CITY All passengers arriving in Iloilo City, except those from neighboring Western Visayas areas, will be required to submit a negative swab test result issued not more than 72 hours before t… [+1573 chars]'},\n",
       "  {'source': {'id': None, 'name': 'Inquirer.net'},\n",
       "   'author': 'postie',\n",
       "   'title': 'Duterte to police, military: Go after people faking COVID-19 test results',\n",
       "   'description': 'MANILA, Philippines — President Rodrigo Duterte on Thursday said he will order the police and military to go after people who are faking their COVID-19 test results to circumvent restrictions. He said he will also go after people who are buying COVID-19 vacci…',\n",
       "   'url': 'https://newsinfo.inquirer.net/1405957/duterte-to-police-military-go-after-people-faking-covid-19-test-results',\n",
       "   'urlToImage': None,\n",
       "   'publishedAt': '2021-03-11T14:05:21Z',\n",
       "   'content': None},\n",
       "  {'source': {'id': None, 'name': 'Inquirer.net'},\n",
       "   'author': 'kadraneda',\n",
       "   'title': 'Biden says Americans will be first to get vaccines; any surplus to be shared',\n",
       "   'description': 'WASHINGTON — The United States government will first give Americans COVID-19 vaccines, but any surplus would be shared with the world, President Joe Biden said Wednesday after earlier announcing plans to procure an additional 100 million doses. “We’re going t…',\n",
       "   'url': 'https://newsinfo.inquirer.net/1405832/biden-says-americans-will-be-first-to-get-vaccines-any-surplus-to-be-shared',\n",
       "   'urlToImage': 'https://newsinfo.inquirer.net/files/2021/03/2021-03-10T211552Z_1_LYNXMPEH291M0_RTROPTP_4_HEALTH-CORONAVIRUS-BIDEN-620x417.jpg',\n",
       "   'publishedAt': '2021-03-11T09:37:26Z',\n",
       "   'content': 'U.S. President Joe Biden announces administration plans to double its order of the single-shot Johnson &amp; Johnson coronavirus vaccine, procuring an additional 100 million doses, during an event wi… [+2814 chars]'},\n",
       "  {'source': {'id': None, 'name': 'Inquirer.net'},\n",
       "   'author': 'kadraneda',\n",
       "   'title': 'Vaccine hope, but enduring fear one year after pandemic declared',\n",
       "   'description': 'Brasília, Brazil — The world on Thursday marked one year since the coronavirus threat was declared a pandemic, with vaccinations offering hope but much of humanity still enduring highly restricted lives and no clear path back to normality. The enormity of the…',\n",
       "   'url': 'https://newsinfo.inquirer.net/1405777/vaccine-hope-but-enduring-fear-one-year-after-pandemic-declared',\n",
       "   'urlToImage': 'https://newsinfo.inquirer.net/files/2021/01/000_8Y68BX-620x413.jpg',\n",
       "   'publishedAt': '2021-03-11T08:51:00Z',\n",
       "   'content': 'This photograph taken on January 4, 2021, in Paris, shows figurines next to a vaccine vial reading “COVID-19 vaccine”. (Photo by JOEL SAGET / AFP)\\r\\nBrasília, Brazil The world on Thursday marked one y… [+5549 chars]'},\n",
       "  {'source': {'id': None, 'name': 'Inquirer.net'},\n",
       "   'author': 'postie',\n",
       "   'title': 'Philippines to get 30 million doses of Novavax jab by Q2-Q3, says envoy',\n",
       "   'description': 'MANILA, Philippines — The Philippines might receive 30 million doses of the COVID-19 vaccine developed by American firm Novavax, which is being manufactured in India, in the late second quarter or early third quarter of the year once agreements are signed, In…',\n",
       "   'url': 'https://newsinfo.inquirer.net/?p=1405960',\n",
       "   'urlToImage': 'https://newsinfo.inquirer.net/files/2020/05/000_1RI371-620x417.jpg',\n",
       "   'publishedAt': '2021-03-11T14:17:06Z',\n",
       "   'content': 'MANILA, Philippines The Philippines might receive 30 million doses of the COVID-19 vaccine developed by American firm Novavax, which is being manufactured in India, in the late second quarter or earl… [+2413 chars]'}]}"
      ]
     },
     "execution_count": 5,
     "metadata": {},
     "output_type": "execute_result"
    }
   ],
   "source": [
    "news_articles"
   ]
  },
  {
   "cell_type": "code",
   "execution_count": 6,
   "metadata": {},
   "outputs": [],
   "source": [
    "articles = []\n",
    "\n",
    "for i in range(20):\n",
    "    articles.append(news_articles[\"articles\"][i])"
   ]
  },
  {
   "cell_type": "markdown",
   "metadata": {},
   "source": [
    "### Delete the unnecessary information"
   ]
  },
  {
   "cell_type": "code",
   "execution_count": 7,
   "metadata": {},
   "outputs": [],
   "source": [
    "# Get all information that needs to be deleted\n",
    "delete = (\"description\", \"url\", \"urlToImage\", \"source\")\n",
    "\n",
    "for i in range(len(articles)):\n",
    "    for j in delete:\n",
    "        if j in articles[i]:\n",
    "            del articles[i][j]"
   ]
  },
  {
   "cell_type": "markdown",
   "metadata": {},
   "source": [
    "### Parse the published date"
   ]
  },
  {
   "cell_type": "code",
   "execution_count": 8,
   "metadata": {},
   "outputs": [
    {
     "data": {
      "text/plain": [
       "{'author': 'clopez',\n",
       " 'title': 'Irked Thai PM ‘sanitizes’ journalists',\n",
       " 'publishedAt': '2021-03-11',\n",
       " 'content': 'VEXED Thai Prime Minister Prayuth Chan-ocha sprays hand sanitizer at front row journalists to avert answering questions on the latest Cabinet reshuffle in Bangkok, Thailand, on Tuesday. REUTERS\\r\\nBANG… [+1702 chars]'}"
      ]
     },
     "execution_count": 8,
     "metadata": {},
     "output_type": "execute_result"
    }
   ],
   "source": [
    "for i in range(len(articles)):\n",
    "    articles[i][\"publishedAt\"] = articles[i][\"publishedAt\"][0:10]\n",
    "    \n",
    "articles[3]"
   ]
  },
  {
   "cell_type": "markdown",
   "metadata": {},
   "source": [
    "### Export to JSON"
   ]
  },
  {
   "cell_type": "code",
   "execution_count": 9,
   "metadata": {},
   "outputs": [],
   "source": [
    "json_articles = []\n",
    "\n",
    "for i in range(len(articles)):\n",
    "    json_articles.append(articles[i])\n",
    "    \n",
    "with open(\"news_articles.json\", \"w\") as j:\n",
    "    json.dump(json_articles, j)"
   ]
  },
  {
   "cell_type": "code",
   "execution_count": null,
   "metadata": {},
   "outputs": [],
   "source": []
  }
 ],
 "metadata": {
  "kernelspec": {
   "display_name": "Python 3",
   "language": "python",
   "name": "python3"
  },
  "language_info": {
   "codemirror_mode": {
    "name": "ipython",
    "version": 3
   },
   "file_extension": ".py",
   "mimetype": "text/x-python",
   "name": "python",
   "nbconvert_exporter": "python",
   "pygments_lexer": "ipython3",
   "version": "3.8.5"
  }
 },
 "nbformat": 4,
 "nbformat_minor": 4
}
